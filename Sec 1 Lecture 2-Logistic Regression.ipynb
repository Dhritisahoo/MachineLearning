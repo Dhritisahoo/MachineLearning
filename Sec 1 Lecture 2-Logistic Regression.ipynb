{
 "cells": [
  {
   "cell_type": "markdown",
   "id": "07c34ec6",
   "metadata": {},
   "source": [
    "# 1.) Pull in Data and Convert ot Monthly"
   ]
  },
  {
   "cell_type": "code",
   "execution_count": 96,
   "id": "b48f7d57",
   "metadata": {},
   "outputs": [],
   "source": [
    "import yfinance as yf\n",
    "import pandas as pd\n",
    "import numpy as np\n",
    "import matplotlib.pyplot as plt"
   ]
  },
  {
   "cell_type": "code",
   "execution_count": 97,
   "id": "4fa973aa",
   "metadata": {},
   "outputs": [
    {
     "name": "stdout",
     "output_type": "stream",
     "text": [
      "[*********************100%***********************]  1 of 1 completed\n"
     ]
    }
   ],
   "source": [
    "apple_data = yf.download('AAPL')\n",
    "df = apple_data.resample(\"M\").last()[[\"Adj Close\"]]"
   ]
  },
  {
   "cell_type": "markdown",
   "id": "54bbfd02",
   "metadata": {},
   "source": [
    "# 2.) Create columns. \n",
    "  - Current Stock Price, Difference in stock price, Whether it went up or down over the next month,  option premium"
   ]
  },
  {
   "cell_type": "code",
   "execution_count": 98,
   "id": "1f21f202",
   "metadata": {},
   "outputs": [],
   "source": [
    "df\n",
    "#Differnce in stockprice\n",
    "df[\"Diff\"] = df[\"Adj Close\"].diff().shift(-1)\n"
   ]
  },
  {
   "cell_type": "code",
   "execution_count": 99,
   "id": "523f35fc",
   "metadata": {},
   "outputs": [
    {
     "data": {
      "text/html": [
       "<div>\n",
       "<style scoped>\n",
       "    .dataframe tbody tr th:only-of-type {\n",
       "        vertical-align: middle;\n",
       "    }\n",
       "\n",
       "    .dataframe tbody tr th {\n",
       "        vertical-align: top;\n",
       "    }\n",
       "\n",
       "    .dataframe thead th {\n",
       "        text-align: right;\n",
       "    }\n",
       "</style>\n",
       "<table border=\"1\" class=\"dataframe\">\n",
       "  <thead>\n",
       "    <tr style=\"text-align: right;\">\n",
       "      <th></th>\n",
       "      <th>Adj Close</th>\n",
       "      <th>Diff</th>\n",
       "    </tr>\n",
       "    <tr>\n",
       "      <th>Date</th>\n",
       "      <th></th>\n",
       "      <th></th>\n",
       "    </tr>\n",
       "  </thead>\n",
       "  <tbody>\n",
       "    <tr>\n",
       "      <th>1980-12-31 00:00:00-05:00</th>\n",
       "      <td>0.117887</td>\n",
       "      <td>-0.020296</td>\n",
       "    </tr>\n",
       "    <tr>\n",
       "      <th>1981-01-31 00:00:00-05:00</th>\n",
       "      <td>0.097591</td>\n",
       "      <td>-0.006045</td>\n",
       "    </tr>\n",
       "    <tr>\n",
       "      <th>1981-02-28 00:00:00-05:00</th>\n",
       "      <td>0.091546</td>\n",
       "      <td>-0.006909</td>\n",
       "    </tr>\n",
       "    <tr>\n",
       "      <th>1981-03-31 00:00:00-05:00</th>\n",
       "      <td>0.084637</td>\n",
       "      <td>0.013386</td>\n",
       "    </tr>\n",
       "    <tr>\n",
       "      <th>1981-04-30 00:00:00-04:00</th>\n",
       "      <td>0.098023</td>\n",
       "      <td>0.016409</td>\n",
       "    </tr>\n",
       "  </tbody>\n",
       "</table>\n",
       "</div>"
      ],
      "text/plain": [
       "                           Adj Close      Diff\n",
       "Date                                          \n",
       "1980-12-31 00:00:00-05:00   0.117887 -0.020296\n",
       "1981-01-31 00:00:00-05:00   0.097591 -0.006045\n",
       "1981-02-28 00:00:00-05:00   0.091546 -0.006909\n",
       "1981-03-31 00:00:00-05:00   0.084637  0.013386\n",
       "1981-04-30 00:00:00-04:00   0.098023  0.016409"
      ]
     },
     "execution_count": 99,
     "metadata": {},
     "output_type": "execute_result"
    }
   ],
   "source": [
    "df.head()"
   ]
  },
  {
   "cell_type": "code",
   "execution_count": 100,
   "id": "02d69b96",
   "metadata": {},
   "outputs": [],
   "source": [
    "#Target up or down\n",
    "df[\"Target\"]= np.sign(df[\"Diff\"])"
   ]
  },
  {
   "cell_type": "code",
   "execution_count": 101,
   "id": "819dec62",
   "metadata": {},
   "outputs": [
    {
     "data": {
      "text/html": [
       "<div>\n",
       "<style scoped>\n",
       "    .dataframe tbody tr th:only-of-type {\n",
       "        vertical-align: middle;\n",
       "    }\n",
       "\n",
       "    .dataframe tbody tr th {\n",
       "        vertical-align: top;\n",
       "    }\n",
       "\n",
       "    .dataframe thead th {\n",
       "        text-align: right;\n",
       "    }\n",
       "</style>\n",
       "<table border=\"1\" class=\"dataframe\">\n",
       "  <thead>\n",
       "    <tr style=\"text-align: right;\">\n",
       "      <th></th>\n",
       "      <th>Adj Close</th>\n",
       "      <th>Diff</th>\n",
       "      <th>Target</th>\n",
       "      <th>Premium</th>\n",
       "    </tr>\n",
       "    <tr>\n",
       "      <th>Date</th>\n",
       "      <th></th>\n",
       "      <th></th>\n",
       "      <th></th>\n",
       "      <th></th>\n",
       "    </tr>\n",
       "  </thead>\n",
       "  <tbody>\n",
       "    <tr>\n",
       "      <th>1980-12-31 00:00:00-05:00</th>\n",
       "      <td>0.117887</td>\n",
       "      <td>-0.020296</td>\n",
       "      <td>-1.0</td>\n",
       "      <td>0.009431</td>\n",
       "    </tr>\n",
       "    <tr>\n",
       "      <th>1981-01-31 00:00:00-05:00</th>\n",
       "      <td>0.097591</td>\n",
       "      <td>-0.006045</td>\n",
       "      <td>-1.0</td>\n",
       "      <td>0.007807</td>\n",
       "    </tr>\n",
       "    <tr>\n",
       "      <th>1981-02-28 00:00:00-05:00</th>\n",
       "      <td>0.091546</td>\n",
       "      <td>-0.006909</td>\n",
       "      <td>-1.0</td>\n",
       "      <td>0.007324</td>\n",
       "    </tr>\n",
       "    <tr>\n",
       "      <th>1981-03-31 00:00:00-05:00</th>\n",
       "      <td>0.084637</td>\n",
       "      <td>0.013386</td>\n",
       "      <td>1.0</td>\n",
       "      <td>0.006771</td>\n",
       "    </tr>\n",
       "    <tr>\n",
       "      <th>1981-04-30 00:00:00-04:00</th>\n",
       "      <td>0.098023</td>\n",
       "      <td>0.016409</td>\n",
       "      <td>1.0</td>\n",
       "      <td>0.007842</td>\n",
       "    </tr>\n",
       "    <tr>\n",
       "      <th>...</th>\n",
       "      <td>...</td>\n",
       "      <td>...</td>\n",
       "      <td>...</td>\n",
       "      <td>...</td>\n",
       "    </tr>\n",
       "    <tr>\n",
       "      <th>2023-09-30 00:00:00-04:00</th>\n",
       "      <td>170.984741</td>\n",
       "      <td>-0.439423</td>\n",
       "      <td>-1.0</td>\n",
       "      <td>13.678779</td>\n",
       "    </tr>\n",
       "    <tr>\n",
       "      <th>2023-10-31 00:00:00-04:00</th>\n",
       "      <td>170.545319</td>\n",
       "      <td>19.404678</td>\n",
       "      <td>1.0</td>\n",
       "      <td>13.643625</td>\n",
       "    </tr>\n",
       "    <tr>\n",
       "      <th>2023-11-30 00:00:00-05:00</th>\n",
       "      <td>189.949997</td>\n",
       "      <td>2.580002</td>\n",
       "      <td>1.0</td>\n",
       "      <td>15.196000</td>\n",
       "    </tr>\n",
       "    <tr>\n",
       "      <th>2023-12-31 00:00:00-05:00</th>\n",
       "      <td>192.529999</td>\n",
       "      <td>-9.850006</td>\n",
       "      <td>-1.0</td>\n",
       "      <td>15.402400</td>\n",
       "    </tr>\n",
       "    <tr>\n",
       "      <th>2024-01-31 00:00:00-05:00</th>\n",
       "      <td>182.679993</td>\n",
       "      <td>NaN</td>\n",
       "      <td>NaN</td>\n",
       "      <td>14.614399</td>\n",
       "    </tr>\n",
       "  </tbody>\n",
       "</table>\n",
       "<p>518 rows × 4 columns</p>\n",
       "</div>"
      ],
      "text/plain": [
       "                            Adj Close       Diff  Target    Premium\n",
       "Date                                                               \n",
       "1980-12-31 00:00:00-05:00    0.117887  -0.020296    -1.0   0.009431\n",
       "1981-01-31 00:00:00-05:00    0.097591  -0.006045    -1.0   0.007807\n",
       "1981-02-28 00:00:00-05:00    0.091546  -0.006909    -1.0   0.007324\n",
       "1981-03-31 00:00:00-05:00    0.084637   0.013386     1.0   0.006771\n",
       "1981-04-30 00:00:00-04:00    0.098023   0.016409     1.0   0.007842\n",
       "...                               ...        ...     ...        ...\n",
       "2023-09-30 00:00:00-04:00  170.984741  -0.439423    -1.0  13.678779\n",
       "2023-10-31 00:00:00-04:00  170.545319  19.404678     1.0  13.643625\n",
       "2023-11-30 00:00:00-05:00  189.949997   2.580002     1.0  15.196000\n",
       "2023-12-31 00:00:00-05:00  192.529999  -9.850006    -1.0  15.402400\n",
       "2024-01-31 00:00:00-05:00  182.679993        NaN     NaN  14.614399\n",
       "\n",
       "[518 rows x 4 columns]"
      ]
     },
     "execution_count": 101,
     "metadata": {},
     "output_type": "execute_result"
    }
   ],
   "source": [
    "#Option premium ( if it a true postive )\n",
    "df[\"Premium\"] = .08 *df[\"Adj Close\"]\n",
    "df"
   ]
  },
  {
   "cell_type": "markdown",
   "id": "c9987e25",
   "metadata": {},
   "source": [
    "# 3.) Pull in X data, normalize and build a LogReg on column 2"
   ]
  },
  {
   "cell_type": "code",
   "execution_count": 102,
   "id": "132b4471",
   "metadata": {},
   "outputs": [],
   "source": [
    "import numpy as np\n",
    "import pandas as pd\n",
    "from sklearn.model_selection import train_test_split\n",
    "from sklearn.linear_model import LogisticRegression\n",
    "from sklearn import metrics"
   ]
  },
  {
   "cell_type": "code",
   "execution_count": 103,
   "id": "b21f3c33",
   "metadata": {},
   "outputs": [],
   "source": [
    "X = pd.read_csv(\"Xdata.csv\", index_col=\"Date\", parse_dates=[\"Date\"])"
   ]
  },
  {
   "cell_type": "code",
   "execution_count": 104,
   "id": "7b38602e",
   "metadata": {},
   "outputs": [
    {
     "data": {
      "text/html": [
       "<div>\n",
       "<style scoped>\n",
       "    .dataframe tbody tr th:only-of-type {\n",
       "        vertical-align: middle;\n",
       "    }\n",
       "\n",
       "    .dataframe tbody tr th {\n",
       "        vertical-align: top;\n",
       "    }\n",
       "\n",
       "    .dataframe thead th {\n",
       "        text-align: right;\n",
       "    }\n",
       "</style>\n",
       "<table border=\"1\" class=\"dataframe\">\n",
       "  <thead>\n",
       "    <tr style=\"text-align: right;\">\n",
       "      <th></th>\n",
       "      <th>Adj Close</th>\n",
       "      <th>Diff</th>\n",
       "      <th>Target</th>\n",
       "      <th>Premium</th>\n",
       "    </tr>\n",
       "    <tr>\n",
       "      <th>Date</th>\n",
       "      <th></th>\n",
       "      <th></th>\n",
       "      <th></th>\n",
       "      <th></th>\n",
       "    </tr>\n",
       "  </thead>\n",
       "  <tbody>\n",
       "    <tr>\n",
       "      <th>1980-12-31 00:00:00-05:00</th>\n",
       "      <td>0.117887</td>\n",
       "      <td>-0.020296</td>\n",
       "      <td>-1.0</td>\n",
       "      <td>0.009431</td>\n",
       "    </tr>\n",
       "    <tr>\n",
       "      <th>1981-01-31 00:00:00-05:00</th>\n",
       "      <td>0.097591</td>\n",
       "      <td>-0.006045</td>\n",
       "      <td>-1.0</td>\n",
       "      <td>0.007807</td>\n",
       "    </tr>\n",
       "    <tr>\n",
       "      <th>1981-02-28 00:00:00-05:00</th>\n",
       "      <td>0.091546</td>\n",
       "      <td>-0.006909</td>\n",
       "      <td>-1.0</td>\n",
       "      <td>0.007324</td>\n",
       "    </tr>\n",
       "    <tr>\n",
       "      <th>1981-03-31 00:00:00-05:00</th>\n",
       "      <td>0.084637</td>\n",
       "      <td>0.013386</td>\n",
       "      <td>1.0</td>\n",
       "      <td>0.006771</td>\n",
       "    </tr>\n",
       "    <tr>\n",
       "      <th>1981-04-30 00:00:00-04:00</th>\n",
       "      <td>0.098023</td>\n",
       "      <td>0.016409</td>\n",
       "      <td>1.0</td>\n",
       "      <td>0.007842</td>\n",
       "    </tr>\n",
       "  </tbody>\n",
       "</table>\n",
       "</div>"
      ],
      "text/plain": [
       "                           Adj Close      Diff  Target   Premium\n",
       "Date                                                            \n",
       "1980-12-31 00:00:00-05:00   0.117887 -0.020296    -1.0  0.009431\n",
       "1981-01-31 00:00:00-05:00   0.097591 -0.006045    -1.0  0.007807\n",
       "1981-02-28 00:00:00-05:00   0.091546 -0.006909    -1.0  0.007324\n",
       "1981-03-31 00:00:00-05:00   0.084637  0.013386     1.0  0.006771\n",
       "1981-04-30 00:00:00-04:00   0.098023  0.016409     1.0  0.007842"
      ]
     },
     "execution_count": 104,
     "metadata": {},
     "output_type": "execute_result"
    }
   ],
   "source": [
    "y = df.loc[:\"2023-09-30\",\"Target\"].copy()\n",
    "df = df.loc[:\"2023-09-30\",:].copy()\n",
    "df.head()"
   ]
  },
  {
   "cell_type": "code",
   "execution_count": 105,
   "id": "f3bc75a2",
   "metadata": {},
   "outputs": [],
   "source": [
    "log_reg = LogisticRegression().fit(X,y)"
   ]
  },
  {
   "cell_type": "code",
   "execution_count": 106,
   "id": "09084eb5",
   "metadata": {},
   "outputs": [],
   "source": [
    "y_pred = log_reg.predict(X)"
   ]
  },
  {
   "cell_type": "markdown",
   "id": "2c2c792d",
   "metadata": {},
   "source": [
    "# 4.) Add columns, prediction and profits."
   ]
  },
  {
   "cell_type": "code",
   "execution_count": 108,
   "id": "8009466a",
   "metadata": {},
   "outputs": [],
   "source": [
    "df[\"Predictions\"] = y_pred"
   ]
  },
  {
   "cell_type": "code",
   "execution_count": 113,
   "id": "4aae021b",
   "metadata": {},
   "outputs": [],
   "source": [
    "df[\"Profits\"] = 0"
   ]
  },
  {
   "cell_type": "code",
   "execution_count": 114,
   "id": "1d41211f",
   "metadata": {},
   "outputs": [],
   "source": [
    "#true positives \n",
    "df.loc[(df[\"Predictions\"]==1)&(df[\"Target\"]==1), \"Profits\"] =  df[\"Premium\"]"
   ]
  },
  {
   "cell_type": "code",
   "execution_count": 115,
   "id": "7c8a051f",
   "metadata": {},
   "outputs": [],
   "source": [
    "#false positives \n",
    "df.loc[(df[\"Predictions\"]==1)&(df[\"Target\"]==-1), \"Profits\"] = 100*df[\"Diff\"] + df[\"Premium\"]"
   ]
  },
  {
   "cell_type": "code",
   "execution_count": 117,
   "id": "7217c83b",
   "metadata": {},
   "outputs": [
    {
     "data": {
      "text/html": [
       "<div>\n",
       "<style scoped>\n",
       "    .dataframe tbody tr th:only-of-type {\n",
       "        vertical-align: middle;\n",
       "    }\n",
       "\n",
       "    .dataframe tbody tr th {\n",
       "        vertical-align: top;\n",
       "    }\n",
       "\n",
       "    .dataframe thead th {\n",
       "        text-align: right;\n",
       "    }\n",
       "</style>\n",
       "<table border=\"1\" class=\"dataframe\">\n",
       "  <thead>\n",
       "    <tr style=\"text-align: right;\">\n",
       "      <th></th>\n",
       "      <th>Adj Close</th>\n",
       "      <th>Diff</th>\n",
       "      <th>Target</th>\n",
       "      <th>Premium</th>\n",
       "      <th>Predictions</th>\n",
       "      <th>profits</th>\n",
       "      <th>Profits</th>\n",
       "    </tr>\n",
       "    <tr>\n",
       "      <th>Date</th>\n",
       "      <th></th>\n",
       "      <th></th>\n",
       "      <th></th>\n",
       "      <th></th>\n",
       "      <th></th>\n",
       "      <th></th>\n",
       "      <th></th>\n",
       "    </tr>\n",
       "  </thead>\n",
       "  <tbody>\n",
       "    <tr>\n",
       "      <th>1980-12-31 00:00:00-05:00</th>\n",
       "      <td>0.117887</td>\n",
       "      <td>-0.020296</td>\n",
       "      <td>-1.0</td>\n",
       "      <td>0.009431</td>\n",
       "      <td>-1.0</td>\n",
       "      <td>0</td>\n",
       "      <td>0.000000</td>\n",
       "    </tr>\n",
       "    <tr>\n",
       "      <th>1981-01-31 00:00:00-05:00</th>\n",
       "      <td>0.097591</td>\n",
       "      <td>-0.006045</td>\n",
       "      <td>-1.0</td>\n",
       "      <td>0.007807</td>\n",
       "      <td>-1.0</td>\n",
       "      <td>0</td>\n",
       "      <td>0.000000</td>\n",
       "    </tr>\n",
       "    <tr>\n",
       "      <th>1981-02-28 00:00:00-05:00</th>\n",
       "      <td>0.091546</td>\n",
       "      <td>-0.006909</td>\n",
       "      <td>-1.0</td>\n",
       "      <td>0.007324</td>\n",
       "      <td>-1.0</td>\n",
       "      <td>0</td>\n",
       "      <td>0.000000</td>\n",
       "    </tr>\n",
       "    <tr>\n",
       "      <th>1981-03-31 00:00:00-05:00</th>\n",
       "      <td>0.084637</td>\n",
       "      <td>0.013386</td>\n",
       "      <td>1.0</td>\n",
       "      <td>0.006771</td>\n",
       "      <td>1.0</td>\n",
       "      <td>0</td>\n",
       "      <td>0.006771</td>\n",
       "    </tr>\n",
       "    <tr>\n",
       "      <th>1981-04-30 00:00:00-04:00</th>\n",
       "      <td>0.098023</td>\n",
       "      <td>0.016409</td>\n",
       "      <td>1.0</td>\n",
       "      <td>0.007842</td>\n",
       "      <td>1.0</td>\n",
       "      <td>0</td>\n",
       "      <td>0.007842</td>\n",
       "    </tr>\n",
       "    <tr>\n",
       "      <th>...</th>\n",
       "      <td>...</td>\n",
       "      <td>...</td>\n",
       "      <td>...</td>\n",
       "      <td>...</td>\n",
       "      <td>...</td>\n",
       "      <td>...</td>\n",
       "      <td>...</td>\n",
       "    </tr>\n",
       "    <tr>\n",
       "      <th>2023-05-31 00:00:00-04:00</th>\n",
       "      <td>176.778061</td>\n",
       "      <td>16.675507</td>\n",
       "      <td>1.0</td>\n",
       "      <td>14.142245</td>\n",
       "      <td>1.0</td>\n",
       "      <td>0</td>\n",
       "      <td>14.142245</td>\n",
       "    </tr>\n",
       "    <tr>\n",
       "      <th>2023-06-30 00:00:00-04:00</th>\n",
       "      <td>193.453568</td>\n",
       "      <td>2.473389</td>\n",
       "      <td>1.0</td>\n",
       "      <td>15.476285</td>\n",
       "      <td>1.0</td>\n",
       "      <td>0</td>\n",
       "      <td>15.476285</td>\n",
       "    </tr>\n",
       "    <tr>\n",
       "      <th>2023-07-31 00:00:00-04:00</th>\n",
       "      <td>195.926956</td>\n",
       "      <td>-8.304138</td>\n",
       "      <td>-1.0</td>\n",
       "      <td>15.674156</td>\n",
       "      <td>-1.0</td>\n",
       "      <td>0</td>\n",
       "      <td>0.000000</td>\n",
       "    </tr>\n",
       "    <tr>\n",
       "      <th>2023-08-31 00:00:00-04:00</th>\n",
       "      <td>187.622818</td>\n",
       "      <td>-16.638077</td>\n",
       "      <td>-1.0</td>\n",
       "      <td>15.009825</td>\n",
       "      <td>-1.0</td>\n",
       "      <td>0</td>\n",
       "      <td>0.000000</td>\n",
       "    </tr>\n",
       "    <tr>\n",
       "      <th>2023-09-30 00:00:00-04:00</th>\n",
       "      <td>170.984741</td>\n",
       "      <td>-0.439423</td>\n",
       "      <td>-1.0</td>\n",
       "      <td>13.678779</td>\n",
       "      <td>-1.0</td>\n",
       "      <td>0</td>\n",
       "      <td>0.000000</td>\n",
       "    </tr>\n",
       "  </tbody>\n",
       "</table>\n",
       "<p>514 rows × 7 columns</p>\n",
       "</div>"
      ],
      "text/plain": [
       "                            Adj Close       Diff  Target    Premium  \\\n",
       "Date                                                                  \n",
       "1980-12-31 00:00:00-05:00    0.117887  -0.020296    -1.0   0.009431   \n",
       "1981-01-31 00:00:00-05:00    0.097591  -0.006045    -1.0   0.007807   \n",
       "1981-02-28 00:00:00-05:00    0.091546  -0.006909    -1.0   0.007324   \n",
       "1981-03-31 00:00:00-05:00    0.084637   0.013386     1.0   0.006771   \n",
       "1981-04-30 00:00:00-04:00    0.098023   0.016409     1.0   0.007842   \n",
       "...                               ...        ...     ...        ...   \n",
       "2023-05-31 00:00:00-04:00  176.778061  16.675507     1.0  14.142245   \n",
       "2023-06-30 00:00:00-04:00  193.453568   2.473389     1.0  15.476285   \n",
       "2023-07-31 00:00:00-04:00  195.926956  -8.304138    -1.0  15.674156   \n",
       "2023-08-31 00:00:00-04:00  187.622818 -16.638077    -1.0  15.009825   \n",
       "2023-09-30 00:00:00-04:00  170.984741  -0.439423    -1.0  13.678779   \n",
       "\n",
       "                           Predictions  profits    Profits  \n",
       "Date                                                        \n",
       "1980-12-31 00:00:00-05:00         -1.0        0   0.000000  \n",
       "1981-01-31 00:00:00-05:00         -1.0        0   0.000000  \n",
       "1981-02-28 00:00:00-05:00         -1.0        0   0.000000  \n",
       "1981-03-31 00:00:00-05:00          1.0        0   0.006771  \n",
       "1981-04-30 00:00:00-04:00          1.0        0   0.007842  \n",
       "...                                ...      ...        ...  \n",
       "2023-05-31 00:00:00-04:00          1.0        0  14.142245  \n",
       "2023-06-30 00:00:00-04:00          1.0        0  15.476285  \n",
       "2023-07-31 00:00:00-04:00         -1.0        0   0.000000  \n",
       "2023-08-31 00:00:00-04:00         -1.0        0   0.000000  \n",
       "2023-09-30 00:00:00-04:00         -1.0        0   0.000000  \n",
       "\n",
       "[514 rows x 7 columns]"
      ]
     },
     "execution_count": 117,
     "metadata": {},
     "output_type": "execute_result"
    }
   ],
   "source": [
    "df"
   ]
  },
  {
   "cell_type": "markdown",
   "id": "e379d80c",
   "metadata": {},
   "source": [
    "# 5.) Plot profits over time"
   ]
  },
  {
   "cell_type": "code",
   "execution_count": 116,
   "id": "bc16f4dc",
   "metadata": {},
   "outputs": [
    {
     "data": {
      "image/png": "[encoded data removed]",
      "text/plain": [
       "<Figure size 640x480 with 1 Axes>"
      ]
     },
     "metadata": {},
     "output_type": "display_data"
    }
   ],
   "source": [
    "plt.plot(np.cumsum(df[\"Profits\"]))\n",
    "plt.show()"
   ]
  },
  {
   "cell_type": "code",
   "execution_count": null,
   "id": "8ceaaa10",
   "metadata": {},
   "outputs": [],
   "source": [
    "# how could the skills that could help the speaker? "
   ]
  },
  {
   "cell_type": "code",
   "execution_count": null,
   "id": "19b723f5",
   "metadata": {},
   "outputs": [],
   "source": [
    "#I could use cloud computing and ML course to help the speaker ."
   ]
  },
  {
   "cell_type": "markdown",
   "id": "5c970b3f",
   "metadata": {},
   "source": [
    "# 6.) Create a loop that stores total profits over time"
   ]
  },
  {
   "cell_type": "code",
   "execution_count": null,
   "id": "abab021c",
   "metadata": {},
   "outputs": [],
   "source": []
  },
  {
   "cell_type": "markdown",
   "id": "30f8738c",
   "metadata": {},
   "source": [
    "# 7.) What is the optimal threshold and plot the total profits for this model."
   ]
  },
  {
   "cell_type": "code",
   "execution_count": null,
   "id": "aba0f592",
   "metadata": {},
   "outputs": [],
   "source": []
  }
 ],
 "metadata": {
  "kernelspec": {
   "display_name": "Python 3 (ipykernel)",
   "language": "python",
   "name": "python3"
  },
  "language_info": {
   "codemirror_mode": {
    "name": "ipython",
    "version": 3
   },
   "file_extension": ".py",
   "mimetype": "text/x-python",
   "name": "python",
   "nbconvert_exporter": "python",
   "pygments_lexer": "ipython3",
   "version": "3.9.13"
  }
 },
 "nbformat": 4,
 "nbformat_minor": 5
}
